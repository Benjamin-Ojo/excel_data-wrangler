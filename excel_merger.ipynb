{
 "cells": [
  {
   "cell_type": "code",
   "execution_count": null,
   "id": "61ee2f76",
   "metadata": {},
   "outputs": [],
   "source": [
    "# Import packages. \n",
    "import pandas as pd \n",
    "import os \n",
    "\n",
    "# File name.\n",
    "cont_folder = 'C:/Users/User1/Documents/Data_Project/excel_data-wrangler/csv_files'\n",
    "\n",
    "# Print list of file in a folder. \n",
    "files = os.listdir(cont_folder)\n",
    "print(files)\n"
   ]
  },
  {
   "cell_type": "code",
   "execution_count": null,
   "id": "8e6c2b8a",
   "metadata": {},
   "outputs": [],
   "source": [
    "\n",
    "excel_append = pd.DataFrame()\n",
    "for file in files[:50]:\n",
    "    origi = pd.read_csv(f'csv_files/{file}')\n",
    "    excel_append = excel_append.append(origi, ignore_index =  True)\n",
    "\n",
    "excel_append = excel_append.iloc[:, :12]\n"
   ]
  },
  {
   "cell_type": "code",
   "execution_count": null,
   "id": "7644b37e",
   "metadata": {},
   "outputs": [],
   "source": [
    "\n",
    "excel_append1 = pd.DataFrame()\n",
    "for file in files[50:100]:\n",
    "    origi = pd.read_csv(f'csv_files/{file}')\n",
    "    excel_append1 = excel_append1.append(origi, ignore_index =  True)\n",
    "\n",
    "excel_append1 = excel_append1.iloc[:, :12]\n"
   ]
  },
  {
   "cell_type": "code",
   "execution_count": null,
   "id": "a259f83d",
   "metadata": {},
   "outputs": [],
   "source": [
    "excel_append2 = pd.DataFrame()\n",
    "for file in files[100:150]:        \n",
    "    origi = pd.read_csv(f'csv_files/{file}')\n",
    "    excel_append2 = excel_append2.append(origi, ignore_index = True)\n",
    "\n",
    "excel_append2 = excel_append2.iloc[:, :12]\n"
   ]
  },
  {
   "cell_type": "code",
   "execution_count": null,
   "id": "4349dee8",
   "metadata": {},
   "outputs": [],
   "source": [
    "excel_append3 = pd.DataFrame()\n",
    "for file in files[150:240]:\n",
    "    origi = pd.read_csv(f'csv_files/{file}')\n",
    "    excel_append3 = excel_append3.append(origi, ignore_index = True)\n",
    "\n",
    "excel_append3 = excel_append3.iloc[:, :12]\n"
   ]
  },
  {
   "cell_type": "code",
   "execution_count": null,
   "id": "8a954238",
   "metadata": {},
   "outputs": [],
   "source": [
    "excel_merge = excel_append.append(excel_append1, ignore_index = True)\n",
    "\n",
    "excel_merge.append(excel_append2, ignore_index = True)\n",
    "\n",
    "excel_merge.append(excel_append3, ignore_index = True)\n",
    "\n",
    "excel_merge\n"
   ]
  },
  {
   "cell_type": "code",
   "execution_count": null,
   "id": "d212b2a5",
   "metadata": {},
   "outputs": [],
   "source": [
    "excel_merge.to_excel('excel_merge.xlsx')"
   ]
  }
 ],
 "metadata": {
  "kernelspec": {
   "display_name": "Python 3 (ipykernel)",
   "language": "python",
   "name": "python3"
  },
  "language_info": {
   "codemirror_mode": {
    "name": "ipython",
    "version": 3
   },
   "file_extension": ".py",
   "mimetype": "text/x-python",
   "name": "python",
   "nbconvert_exporter": "python",
   "pygments_lexer": "ipython3",
   "version": "3.9.12"
  }
 },
 "nbformat": 4,
 "nbformat_minor": 5
}
